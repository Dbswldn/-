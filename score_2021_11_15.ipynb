{
  "nbformat": 4,
  "nbformat_minor": 0,
  "metadata": {
    "colab": {
      "name": "score 2021.11.15",
      "provenance": [],
      "authorship_tag": "ABX9TyM1ns55EqNIb23UOhjbmrWo",
      "include_colab_link": true
    },
    "kernelspec": {
      "name": "python3",
      "display_name": "Python 3"
    },
    "language_info": {
      "name": "python"
    }
  },
  "cells": [
    {
      "cell_type": "markdown",
      "metadata": {
        "id": "view-in-github",
        "colab_type": "text"
      },
      "source": [
        "<a href=\"https://colab.research.google.com/github/Dbswldn/python/blob/main/score_2021_11_15.ipynb\" target=\"_parent\"><img src=\"https://colab.research.google.com/assets/colab-badge.svg\" alt=\"Open In Colab\"/></a>"
      ]
    },
    {
      "cell_type": "code",
      "metadata": {
        "colab": {
          "base_uri": "https://localhost:8080/"
        },
        "id": "l4Fz73-pQ6K9",
        "outputId": "e52e95d5-3ca2-4c68-d19b-d3ddee994116"
      },
      "source": [
        "score = int(input(\"성적을 입력하시오.\"))\n",
        "\n",
        "if score >= 90:\n",
        "   print(\"A학점입니다.\")\n",
        "elif score >= 80:\n",
        "   print(\"B학점입니다.\")\n",
        "elif score >= 70:\n",
        "   print(\"C학점입니다.\")\n",
        "elif score >= 60:\n",
        "   print(\"D학점입니다.\")\n",
        "else:\n",
        "   print(\"F학점입니다.\")\n",
        "\n"
      ],
      "execution_count": 6,
      "outputs": [
        {
          "output_type": "stream",
          "name": "stdout",
          "text": [
            "성적을 입력하시오.80\n",
            "B학점입니다.\n"
          ]
        }
      ]
    }
  ]
}
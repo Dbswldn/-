{
  "nbformat": 4,
  "nbformat_minor": 0,
  "metadata": {
    "colab": {
      "name": "구구단 ",
      "provenance": [],
      "authorship_tag": "ABX9TyPf5Z728W8/mCXs7B2nKHwg",
      "include_colab_link": true
    },
    "kernelspec": {
      "name": "python3",
      "display_name": "Python 3"
    },
    "language_info": {
      "name": "python"
    }
  },
  "cells": [
    {
      "cell_type": "markdown",
      "metadata": {
        "id": "view-in-github",
        "colab_type": "text"
      },
      "source": [
        "<a href=\"https://colab.research.google.com/github/Dbswldn/--/blob/main/%EA%B5%AC%EA%B5%AC%EB%8B%A8.ipynb\" target=\"_parent\"><img src=\"https://colab.research.google.com/assets/colab-badge.svg\" alt=\"Open In Colab\"/></a>"
      ]
    },
    {
      "cell_type": "code",
      "metadata": {
        "id": "LzJl9lJTPPzW"
      },
      "source": [
        "dan = int(input(\"원하는 단은\"))\n",
        "i = 1\n",
        "while i <= 9:\n",
        "  print (\"%s*%s=%s\" %(dan, i, dan*i))\n",
        "  i = i+1"
      ],
      "execution_count": null,
      "outputs": []
    }
  ]
}